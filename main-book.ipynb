{
 "metadata": {
  "language_info": {
   "codemirror_mode": {
    "name": "ipython",
    "version": 3
   },
   "file_extension": ".py",
   "mimetype": "text/x-python",
   "name": "python",
   "nbconvert_exporter": "python",
   "pygments_lexer": "ipython3",
   "version": "3.9.2-final"
  },
  "orig_nbformat": 2,
  "kernelspec": {
   "name": "python392jvsc74a57bd0dabd6d5c2f0c702c43c5fcc4869b1bbbc90ebbc6bad9ae9448f7cef48d4d8580",
   "display_name": "Python 3.9.2 64-bit"
  },
  "metadata": {
   "interpreter": {
    "hash": "dabd6d5c2f0c702c43c5fcc4869b1bbbc90ebbc6bad9ae9448f7cef48d4d8580"
   }
  }
 },
 "nbformat": 4,
 "nbformat_minor": 2,
 "cells": [
  {
   "cell_type": "code",
   "execution_count": 2,
   "metadata": {},
   "outputs": [
    {
     "output_type": "stream",
     "name": "stdout",
     "text": [
      "some code\n"
     ]
    }
   ],
   "source": [
    "#code \n",
    "msg = \"some code\"\n",
    "print(msg)"
   ]
  },
  {
   "source": [
    "# markdown \n",
    "Some text\n",
    "\\(E=mc^2\\)，$$x_{1,2} = \\frac{-b \\pm \\sqrt{b^2-4ac}}{2b}.$$"
   ],
   "cell_type": "markdown",
   "metadata": {}
  },
  {
   "cell_type": "code",
   "execution_count": null,
   "metadata": {},
   "outputs": [],
   "source": []
  },
  {
   "cell_type": "code",
   "execution_count": null,
   "metadata": {},
   "outputs": [],
   "source": []
  }
 ]
}